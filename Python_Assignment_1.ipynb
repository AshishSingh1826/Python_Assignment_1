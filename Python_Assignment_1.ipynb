{
 "cells": [
  {
   "cell_type": "code",
   "execution_count": null,
   "id": "ef5ec0e7-1a97-4f13-8410-dfa6403514a1",
   "metadata": {},
   "outputs": [],
   "source": [
    "# 1. Explain the key features of Python that make it a popular choice for programming"
   ]
  },
  {
   "cell_type": "raw",
   "id": "c223dab1-7909-43d4-bbb2-4425e2e5eefe",
   "metadata": {},
   "source": [
    "#a) Readability and Simplicity:\n",
    "      #Clear and concise syntax, often referred to as \"Pythonic.\"\n",
    "      #English-like keywords and minimal punctuation.\n",
    "      #Easy to learn and understand, even for beginners.\n",
    "       #\n",
    " #b) Versatility:\n",
    "      #Can be used for a wide range of applications, from web development and data analysis to machine learning and scientific computing.   \n",
    "      #Rich ecosystem of libraries and frameworks for various tasks.\n",
    "       #\n",
    " #c) Large Community and Support:\n",
    "      #Active and supportive community of developers.\n",
    "      #Extensive documentation, tutorials, and online resources.\n",
    "       #\n",
    " #d) Standard Library:\n",
    "      #Comprehensive standard library with modules for common tasks like file I/O, regular expressions, network programming, and more."
   ]
  },
  {
   "cell_type": "code",
   "execution_count": 1,
   "id": "2a65aec5-7778-47aa-9532-ae51e9f68b98",
   "metadata": {},
   "outputs": [],
   "source": [
    "# 2. Describe the role of predefined keywords in Python and provide examples of how they are used in a program"
   ]
  },
  {
   "cell_type": "raw",
   "id": "480d1083-b567-4817-8a13-03dc2503ee6b",
   "metadata": {},
   "source": [
    "#Predefined keywords in Python are reserved words that have specific meanings within the language. They cannot be used as variable names or identifiers. These keywords serve as the building blocks of Python syntax and control the flow and structure of your code."
   ]
  },
  {
   "cell_type": "code",
   "execution_count": 2,
   "id": "7159967c-d7b8-4e72-820a-635fe57cbeeb",
   "metadata": {},
   "outputs": [
    {
     "name": "stdout",
     "output_type": "stream",
     "text": [
      "Hello World\n"
     ]
    }
   ],
   "source": [
    "# Example: print() - Its purpose is that it is used to display output to the console.\n",
    "print(\"Hello World\")"
   ]
  },
  {
   "cell_type": "code",
   "execution_count": 3,
   "id": "5427c02f-0745-496d-a13b-f535c79cb494",
   "metadata": {},
   "outputs": [],
   "source": [
    "# 3. Compare and contrast mutable and immutable objects in Python with examples."
   ]
  },
  {
   "cell_type": "raw",
   "id": "1cd3f1f4-d8e6-4b37-8aac-835bf42e34ff",
   "metadata": {},
   "source": [
    "--> Mutable objects can be changed after they are created. This means that their values can be modified in-place.\n",
    "    \n",
    "    Whereas, Immutable objects cannot be changed once they are created. If you want to modify an immutable object, you must create a new one."
   ]
  },
  {
   "cell_type": "code",
   "execution_count": 4,
   "id": "d8ba5f3d-2a8e-49cc-94af-eb5a9cdc8ef2",
   "metadata": {},
   "outputs": [
    {
     "name": "stdout",
     "output_type": "stream",
     "text": [
      "[10, 2, 3]\n"
     ]
    }
   ],
   "source": [
    "# Example:\n",
    "# Mutable Objects:\n",
    "my_list=[1,2,3]\n",
    "my_list[0]=10\n",
    "print(my_list)"
   ]
  },
  {
   "cell_type": "code",
   "execution_count": 5,
   "id": "d3fbb4bd-816e-4fe1-b0f8-b4efc55774a4",
   "metadata": {},
   "outputs": [
    {
     "name": "stdout",
     "output_type": "stream",
     "text": [
      "Hello world\n"
     ]
    }
   ],
   "source": [
    "# Immutable Objects:\n",
    "my_string = \"Hello\"\n",
    "my_string = my_string + \" world\"\n",
    "print(my_string)  # Output: Hello world (a new string object is created)"
   ]
  },
  {
   "cell_type": "code",
   "execution_count": 7,
   "id": "99402478-e122-4285-8e95-d776e25149e5",
   "metadata": {},
   "outputs": [],
   "source": [
    "# 4. Discuss the different types of operators in Python and provide examples of how they are used"
   ]
  },
  {
   "cell_type": "raw",
   "id": "34f29855-ee89-493a-abc6-4672a4b28777",
   "metadata": {},
   "source": [
    "--> The different types of operators are mentioned below:"
   ]
  },
  {
   "cell_type": "code",
   "execution_count": 15,
   "id": "99fd8579-b991-4d5a-ae86-7c313e269c62",
   "metadata": {},
   "outputs": [
    {
     "name": "stdout",
     "output_type": "stream",
     "text": [
      "8\n"
     ]
    }
   ],
   "source": [
    "# Arithmetic Operators:\n",
    "# Addition\n",
    "result = 5 + 3\n",
    "print(result)  "
   ]
  },
  {
   "cell_type": "code",
   "execution_count": 16,
   "id": "84700800-95dc-477a-a72c-44025a4ac5d1",
   "metadata": {},
   "outputs": [
    {
     "name": "stdout",
     "output_type": "stream",
     "text": [
      "6\n"
     ]
    }
   ],
   "source": [
    "# Subtraction\n",
    "result = 10 - 4\n",
    "print(result)  "
   ]
  },
  {
   "cell_type": "code",
   "execution_count": 14,
   "id": "d262a0b6-7248-417b-bbac-376ba74dc50f",
   "metadata": {},
   "outputs": [
    {
     "name": "stdout",
     "output_type": "stream",
     "text": [
      "12\n"
     ]
    }
   ],
   "source": [
    "# Multiplication\n",
    "result = 2 * 6\n",
    "print(result)"
   ]
  },
  {
   "cell_type": "code",
   "execution_count": 19,
   "id": "2f145608-daa9-4b4f-8a63-d769a30bb795",
   "metadata": {},
   "outputs": [
    {
     "name": "stdout",
     "output_type": "stream",
     "text": [
      "5.0\n"
     ]
    }
   ],
   "source": [
    "# Divison\n",
    "result = 15 / 3\n",
    "print(result) #float"
   ]
  },
  {
   "cell_type": "code",
   "execution_count": 20,
   "id": "e016e914-a5c1-418b-9b50-01a97d24005c",
   "metadata": {},
   "outputs": [
    {
     "name": "stdout",
     "output_type": "stream",
     "text": [
      "5\n"
     ]
    }
   ],
   "source": [
    "# Floor Divison\n",
    "result = 17 // 3\n",
    "print(result) #int"
   ]
  },
  {
   "cell_type": "code",
   "execution_count": 21,
   "id": "cae1b9d4-6937-402a-acb4-3cf50605d798",
   "metadata": {},
   "outputs": [
    {
     "name": "stdout",
     "output_type": "stream",
     "text": [
      "2\n"
     ]
    }
   ],
   "source": [
    "# Modulus\n",
    "result = 17 % 3\n",
    "print(result)"
   ]
  },
  {
   "cell_type": "code",
   "execution_count": 22,
   "id": "747a6e2f-2a19-4d11-9ede-f953a27b872d",
   "metadata": {},
   "outputs": [
    {
     "name": "stdout",
     "output_type": "stream",
     "text": [
      "8\n"
     ]
    }
   ],
   "source": [
    "# Exponentiation\n",
    "result = 2 ** 3\n",
    "print(result)"
   ]
  },
  {
   "cell_type": "code",
   "execution_count": 24,
   "id": "ec7f3773-80bf-4a0a-ad20-795c40dda637",
   "metadata": {},
   "outputs": [
    {
     "name": "stdout",
     "output_type": "stream",
     "text": [
      "True\n"
     ]
    }
   ],
   "source": [
    "# Comparison Operators:\n",
    "# Equal to:\n",
    "print(5==5)"
   ]
  },
  {
   "cell_type": "code",
   "execution_count": 25,
   "id": "0ccbfde0-7cd2-4364-8c87-a01f53c70296",
   "metadata": {},
   "outputs": [
    {
     "name": "stdout",
     "output_type": "stream",
     "text": [
      "True\n"
     ]
    }
   ],
   "source": [
    "# Not equal to:\n",
    "print(5!=3)"
   ]
  },
  {
   "cell_type": "code",
   "execution_count": 26,
   "id": "31ffbc4e-5bf5-4de9-bf9c-d5bdcf3986ec",
   "metadata": {},
   "outputs": [
    {
     "name": "stdout",
     "output_type": "stream",
     "text": [
      "True\n"
     ]
    }
   ],
   "source": [
    "# Greater than:\n",
    "print(7>5)"
   ]
  },
  {
   "cell_type": "code",
   "execution_count": 27,
   "id": "46648054-2473-4fc3-aeb3-59cc8e77a429",
   "metadata": {},
   "outputs": [
    {
     "name": "stdout",
     "output_type": "stream",
     "text": [
      "True\n"
     ]
    }
   ],
   "source": [
    "# Less than:\n",
    "print(2<6)"
   ]
  },
  {
   "cell_type": "code",
   "execution_count": 28,
   "id": "6d475486-dae6-45ff-8886-6e02623c56a9",
   "metadata": {},
   "outputs": [
    {
     "name": "stdout",
     "output_type": "stream",
     "text": [
      "True\n"
     ]
    }
   ],
   "source": [
    "# Greater than or equal to:\n",
    "print(8>=8)"
   ]
  },
  {
   "cell_type": "code",
   "execution_count": 29,
   "id": "251a0186-072b-4529-8a0a-c5fe0364a42e",
   "metadata": {},
   "outputs": [
    {
     "name": "stdout",
     "output_type": "stream",
     "text": [
      "True\n"
     ]
    }
   ],
   "source": [
    "# Less than or equal to:\n",
    "print(3<=5)"
   ]
  },
  {
   "cell_type": "code",
   "execution_count": 31,
   "id": "db14c352-28a4-44ec-9a8f-0bc72667120d",
   "metadata": {},
   "outputs": [
    {
     "name": "stdout",
     "output_type": "stream",
     "text": [
      "True\n"
     ]
    }
   ],
   "source": [
    "# Logical operators:\n",
    "# and operator:\n",
    "print((5>3) and (8<10))"
   ]
  },
  {
   "cell_type": "code",
   "execution_count": 32,
   "id": "34e87705-a3d0-4d89-ae6a-f7a05acfd8a9",
   "metadata": {},
   "outputs": [
    {
     "name": "stdout",
     "output_type": "stream",
     "text": [
      "False\n"
     ]
    }
   ],
   "source": [
    "# or operators:\n",
    "print((5<3) or (8>10))"
   ]
  },
  {
   "cell_type": "code",
   "execution_count": 33,
   "id": "5ac9e6d5-98bb-4d33-878e-dec6440e7f45",
   "metadata": {},
   "outputs": [
    {
     "name": "stdout",
     "output_type": "stream",
     "text": [
      "True\n"
     ]
    }
   ],
   "source": [
    "# not operator\n",
    "print(not(5==3))"
   ]
  },
  {
   "cell_type": "code",
   "execution_count": 36,
   "id": "2b378daf-1b35-48ae-90b3-dc0f7ca361ba",
   "metadata": {},
   "outputs": [
    {
     "data": {
      "text/plain": [
       "10"
      ]
     },
     "execution_count": 36,
     "metadata": {},
     "output_type": "execute_result"
    }
   ],
   "source": [
    "# Bitwise operator\n",
    "# Bitwise AND (&)\n",
    "10&10"
   ]
  },
  {
   "cell_type": "code",
   "execution_count": 37,
   "id": "bf7d4ed1-f91e-4679-b5b1-51b55fc47a38",
   "metadata": {},
   "outputs": [
    {
     "data": {
      "text/plain": [
       "7"
      ]
     },
     "execution_count": 37,
     "metadata": {},
     "output_type": "execute_result"
    }
   ],
   "source": [
    "# Bitwise OR (|)\n",
    "3|5"
   ]
  },
  {
   "cell_type": "code",
   "execution_count": 38,
   "id": "a5036925-b55b-498f-89de-eed6974306cb",
   "metadata": {},
   "outputs": [
    {
     "data": {
      "text/plain": [
       "-4"
      ]
     },
     "execution_count": 38,
     "metadata": {},
     "output_type": "execute_result"
    }
   ],
   "source": [
    "# negation operator\n",
    "~3"
   ]
  },
  {
   "cell_type": "code",
   "execution_count": 39,
   "id": "be67c3d2-e068-41bc-86ea-87e2635fa91a",
   "metadata": {},
   "outputs": [
    {
     "data": {
      "text/plain": [
       "6"
      ]
     },
     "execution_count": 39,
     "metadata": {},
     "output_type": "execute_result"
    }
   ],
   "source": [
    "# Bitwise XOR operator\n",
    "5^3"
   ]
  },
  {
   "cell_type": "code",
   "execution_count": 40,
   "id": "bbadcbee-cf34-4630-9960-ad68f13289dc",
   "metadata": {},
   "outputs": [
    {
     "data": {
      "text/plain": [
       "True"
      ]
     },
     "execution_count": 40,
     "metadata": {},
     "output_type": "execute_result"
    }
   ],
   "source": [
    "# Membership Operator\n",
    "a=\"pwskills\"\n",
    "\n",
    "\"p\" in a"
   ]
  },
  {
   "cell_type": "code",
   "execution_count": 41,
   "id": "9c3448b7-8152-4368-bf8a-ccb8a2eba277",
   "metadata": {},
   "outputs": [
    {
     "data": {
      "text/plain": [
       "False"
      ]
     },
     "execution_count": 41,
     "metadata": {},
     "output_type": "execute_result"
    }
   ],
   "source": [
    "\"p\" not in a"
   ]
  },
  {
   "cell_type": "code",
   "execution_count": 43,
   "id": "05f2dc25-e0c4-4f6c-8268-5f67eb9cd828",
   "metadata": {},
   "outputs": [
    {
     "data": {
      "text/plain": [
       "False"
      ]
     },
     "execution_count": 43,
     "metadata": {},
     "output_type": "execute_result"
    }
   ],
   "source": [
    "# Identity Operator\n",
    "a=2\n",
    "b=3\n",
    "\n",
    "a is b"
   ]
  },
  {
   "cell_type": "code",
   "execution_count": 44,
   "id": "97998247-92be-4745-8942-26880e264d8f",
   "metadata": {},
   "outputs": [
    {
     "data": {
      "text/plain": [
       "True"
      ]
     },
     "execution_count": 44,
     "metadata": {},
     "output_type": "execute_result"
    }
   ],
   "source": [
    "a is not b"
   ]
  },
  {
   "cell_type": "code",
   "execution_count": 47,
   "id": "3184fcb5-9483-4e76-8d17-1e7ddb73576c",
   "metadata": {},
   "outputs": [
    {
     "data": {
      "text/plain": [
       "280"
      ]
     },
     "execution_count": 47,
     "metadata": {},
     "output_type": "execute_result"
    }
   ],
   "source": [
    "# Shift Operator\n",
    "# Left Shift\n",
    "35<<3"
   ]
  },
  {
   "cell_type": "code",
   "execution_count": 46,
   "id": "9589aec6-73f1-42ba-8504-d7b492c256e4",
   "metadata": {},
   "outputs": [
    {
     "data": {
      "text/plain": [
       "10"
      ]
     },
     "execution_count": 46,
     "metadata": {},
     "output_type": "execute_result"
    }
   ],
   "source": [
    "5<<1"
   ]
  },
  {
   "cell_type": "code",
   "execution_count": 48,
   "id": "6ed8b0fb-f286-4476-96c0-e6f69fb41ef5",
   "metadata": {},
   "outputs": [
    {
     "data": {
      "text/plain": [
       "35"
      ]
     },
     "execution_count": 48,
     "metadata": {},
     "output_type": "execute_result"
    }
   ],
   "source": [
    "# Right Shift\n",
    "280>>3"
   ]
  },
  {
   "cell_type": "code",
   "execution_count": 49,
   "id": "7640d982-525d-4c35-a179-18230f9a6e82",
   "metadata": {},
   "outputs": [],
   "source": [
    "# 5. Explain the concept of type casting in Python with examples"
   ]
  },
  {
   "cell_type": "raw",
   "id": "654191d1-3164-42aa-ae04-08a66abd8c9b",
   "metadata": {},
   "source": [
    "--> Type casting is the process of converting one data type to another."
   ]
  },
  {
   "cell_type": "code",
   "execution_count": 50,
   "id": "aed6ba27-084d-4e09-a9b0-f2a7ccedc799",
   "metadata": {},
   "outputs": [
    {
     "name": "stdout",
     "output_type": "stream",
     "text": [
      "3\n"
     ]
    }
   ],
   "source": [
    "# Examples:\n",
    "# int()\n",
    "x = 3.14\n",
    "y = int(x)\n",
    "print(y) "
   ]
  },
  {
   "cell_type": "code",
   "execution_count": 51,
   "id": "a1fe025f-5a2f-4940-9247-8161c9f7e3be",
   "metadata": {},
   "outputs": [
    {
     "name": "stdout",
     "output_type": "stream",
     "text": [
      "3.0\n"
     ]
    }
   ],
   "source": [
    "# float()\n",
    "x = \"3\"\n",
    "y = float(x)\n",
    "print(y)"
   ]
  },
  {
   "cell_type": "code",
   "execution_count": 54,
   "id": "7b695657-73aa-42bc-94ce-c24e8c1fbb65",
   "metadata": {},
   "outputs": [
    {
     "data": {
      "text/plain": [
       "'42'"
      ]
     },
     "execution_count": 54,
     "metadata": {},
     "output_type": "execute_result"
    }
   ],
   "source": [
    "# str()\n",
    "x = 42\n",
    "y = str(x)\n",
    "y"
   ]
  },
  {
   "cell_type": "code",
   "execution_count": 55,
   "id": "1dd32936-8923-4e08-b2ca-8aeddfe587b4",
   "metadata": {},
   "outputs": [
    {
     "name": "stdout",
     "output_type": "stream",
     "text": [
      "False\n"
     ]
    }
   ],
   "source": [
    "# bool()\n",
    "x = 0\n",
    "y = bool(x)\n",
    "print(y)"
   ]
  },
  {
   "cell_type": "code",
   "execution_count": 57,
   "id": "848afe22-53bf-4206-b68a-b2efe8daddb2",
   "metadata": {},
   "outputs": [
    {
     "name": "stdout",
     "output_type": "stream",
     "text": [
      "True\n"
     ]
    }
   ],
   "source": [
    "x=1\n",
    "print(bool(x))"
   ]
  },
  {
   "cell_type": "code",
   "execution_count": 58,
   "id": "b27f078f-771a-4e34-810e-0b7fbebfcccb",
   "metadata": {},
   "outputs": [],
   "source": [
    "# 6. How do conditional statements work in Python? Illustrate with examples"
   ]
  },
  {
   "cell_type": "raw",
   "id": "3ac3b52f-b335-47b0-99a6-391ce777d50b",
   "metadata": {},
   "source": [
    "--> Conditional statements allow you to execute different code blocks based on specific conditions. Python uses the if, elif, and else keywords to implement conditional logic."
   ]
  },
  {
   "cell_type": "code",
   "execution_count": 59,
   "id": "909643e0-c107-4783-897c-852fba3dea33",
   "metadata": {},
   "outputs": [
    {
     "name": "stdout",
     "output_type": "stream",
     "text": [
      "You are an adult.\n"
     ]
    }
   ],
   "source": [
    "age = 25\n",
    "\n",
    "if age >= 18:\n",
    "    if age >= 65:\n",
    "        print(\"You are a senior citizen.\")\n",
    "    else:\n",
    "        print(\"You are an adult.\")\n",
    "else:\n",
    "    print(\"You are a minor.\")"
   ]
  },
  {
   "cell_type": "code",
   "execution_count": 60,
   "id": "d31a93c8-90e7-4e0a-b1d3-0e9525e5f907",
   "metadata": {},
   "outputs": [],
   "source": [
    "# 7. Describe the different types of loops in Python and their use cases with examples."
   ]
  },
  {
   "cell_type": "raw",
   "id": "9de3253d-b10b-49ac-98a7-0f393488e82a",
   "metadata": {},
   "source": [
    "--> Python provides two main types of loops: for loops and while loops."
   ]
  },
  {
   "cell_type": "code",
   "execution_count": 61,
   "id": "31dcd738-3b2f-4811-bab1-23623830b48e",
   "metadata": {},
   "outputs": [
    {
     "name": "stdout",
     "output_type": "stream",
     "text": [
      "apple\n",
      "banana\n",
      "cherry\n"
     ]
    }
   ],
   "source": [
    "# for loop\n",
    "# Purpose: Used to iterate over a sequence (like a list, tuple, string, or range).\n",
    "fruits = [\"apple\", \"banana\", \"cherry\"]\n",
    "for fruit in fruits:\n",
    "    print(fruit)"
   ]
  },
  {
   "cell_type": "code",
   "execution_count": 62,
   "id": "102286e8-4a3d-4583-ae1d-112858b06ab1",
   "metadata": {},
   "outputs": [
    {
     "name": "stdout",
     "output_type": "stream",
     "text": [
      "0\n",
      "1\n",
      "2\n",
      "3\n",
      "4\n"
     ]
    }
   ],
   "source": [
    "# while loop\n",
    "# Purpose: Used to execute a block of code as long as a condition is true.\n",
    "count = 0\n",
    "while count < 5:\n",
    "    print(count)\n",
    "    count += 1"
   ]
  },
  {
   "cell_type": "code",
   "execution_count": null,
   "id": "2143e36c-09d8-40fc-b417-37ca0011602a",
   "metadata": {},
   "outputs": [],
   "source": []
  },
  {
   "cell_type": "code",
   "execution_count": null,
   "id": "9b195164-3a7d-45e8-b3a2-5990a727e39a",
   "metadata": {},
   "outputs": [],
   "source": []
  },
  {
   "cell_type": "code",
   "execution_count": null,
   "id": "1e5b5d88-8a3a-4077-898b-33355c0a6430",
   "metadata": {},
   "outputs": [],
   "source": []
  },
  {
   "cell_type": "code",
   "execution_count": null,
   "id": "c03b5ba3-fa0e-4dbb-8fc5-0a63b4e7cc34",
   "metadata": {},
   "outputs": [],
   "source": []
  },
  {
   "cell_type": "code",
   "execution_count": null,
   "id": "40ba1bcf-90f1-425b-9dd2-f8d86b29f58d",
   "metadata": {},
   "outputs": [],
   "source": []
  },
  {
   "cell_type": "code",
   "execution_count": null,
   "id": "27fcae7c-61f5-4ffd-a103-4844ac426f1c",
   "metadata": {},
   "outputs": [],
   "source": []
  },
  {
   "cell_type": "code",
   "execution_count": null,
   "id": "cd6e3146-113e-46ec-9790-1bcb17b36018",
   "metadata": {},
   "outputs": [],
   "source": []
  },
  {
   "cell_type": "code",
   "execution_count": null,
   "id": "53008241-33c2-4a2d-9bbe-bb5be78bc01f",
   "metadata": {},
   "outputs": [],
   "source": []
  },
  {
   "cell_type": "code",
   "execution_count": null,
   "id": "6ab1b51f-b7ad-48c2-976c-a29ad4cef5b8",
   "metadata": {},
   "outputs": [],
   "source": []
  },
  {
   "cell_type": "code",
   "execution_count": null,
   "id": "2d4cc29c-51bc-48d6-8e97-6379806d05ea",
   "metadata": {},
   "outputs": [],
   "source": []
  },
  {
   "cell_type": "code",
   "execution_count": null,
   "id": "451735e9-b40d-4340-8528-8ce5889f2749",
   "metadata": {},
   "outputs": [],
   "source": []
  },
  {
   "cell_type": "code",
   "execution_count": null,
   "id": "d48dc0d8-0f12-490c-9176-f02b87e380d9",
   "metadata": {},
   "outputs": [],
   "source": []
  },
  {
   "cell_type": "code",
   "execution_count": null,
   "id": "3c4bd69e-242c-448d-b6e6-8e09f61e32c2",
   "metadata": {},
   "outputs": [],
   "source": []
  },
  {
   "cell_type": "code",
   "execution_count": null,
   "id": "7ff65c6e-4376-48a8-95fc-864ed470a84b",
   "metadata": {},
   "outputs": [],
   "source": []
  },
  {
   "cell_type": "code",
   "execution_count": null,
   "id": "d462a3ed-879b-478d-9daa-de16c4063686",
   "metadata": {},
   "outputs": [],
   "source": []
  },
  {
   "cell_type": "code",
   "execution_count": null,
   "id": "46df3bc3-d989-46cd-b4a2-9741e8ddaa8c",
   "metadata": {},
   "outputs": [],
   "source": []
  },
  {
   "cell_type": "code",
   "execution_count": null,
   "id": "6e56c4b8-be31-488f-8531-d4e8208b5393",
   "metadata": {},
   "outputs": [],
   "source": []
  },
  {
   "cell_type": "code",
   "execution_count": null,
   "id": "1a5f21e9-b5f5-47c4-ae3a-5852a8c04a5a",
   "metadata": {},
   "outputs": [],
   "source": []
  },
  {
   "cell_type": "code",
   "execution_count": null,
   "id": "b6aaa3a7-d7e2-4393-9443-d3ee5fdb0e3a",
   "metadata": {},
   "outputs": [],
   "source": []
  },
  {
   "cell_type": "code",
   "execution_count": null,
   "id": "da5c78f0-7994-43fe-bc7f-81c531170cbb",
   "metadata": {},
   "outputs": [],
   "source": []
  },
  {
   "cell_type": "code",
   "execution_count": null,
   "id": "82bed37f-c9b2-4a1b-8835-1735c2bf207b",
   "metadata": {},
   "outputs": [],
   "source": []
  },
  {
   "cell_type": "code",
   "execution_count": null,
   "id": "9e2255db-a968-4af4-8406-0f94d3453dae",
   "metadata": {},
   "outputs": [],
   "source": []
  },
  {
   "cell_type": "code",
   "execution_count": null,
   "id": "9101cae5-f86c-45cd-814f-fd7240cd8936",
   "metadata": {},
   "outputs": [],
   "source": []
  },
  {
   "cell_type": "code",
   "execution_count": null,
   "id": "c03ff094-7a0e-4dab-a007-0c4a54c73c90",
   "metadata": {},
   "outputs": [],
   "source": []
  },
  {
   "cell_type": "code",
   "execution_count": null,
   "id": "b2db456d-ca23-46fb-8a10-805b691b4c5c",
   "metadata": {},
   "outputs": [],
   "source": []
  },
  {
   "cell_type": "code",
   "execution_count": null,
   "id": "09d7d406-2585-4877-8236-d4a20393ba59",
   "metadata": {},
   "outputs": [],
   "source": []
  },
  {
   "cell_type": "code",
   "execution_count": null,
   "id": "2609da4c-6410-46c0-809b-00d55dfd24b6",
   "metadata": {},
   "outputs": [],
   "source": []
  },
  {
   "cell_type": "code",
   "execution_count": null,
   "id": "a49ad6bb-b03b-4258-8fa0-42e35b6fb212",
   "metadata": {},
   "outputs": [],
   "source": []
  },
  {
   "cell_type": "code",
   "execution_count": null,
   "id": "1f524025-5567-45a2-af46-208ec9ba4a50",
   "metadata": {},
   "outputs": [],
   "source": []
  },
  {
   "cell_type": "code",
   "execution_count": null,
   "id": "80231317-54d9-4b58-8c44-dc517237adbf",
   "metadata": {},
   "outputs": [],
   "source": []
  },
  {
   "cell_type": "code",
   "execution_count": null,
   "id": "0e16bd1e-1fdd-4963-aba5-afb04418a560",
   "metadata": {},
   "outputs": [],
   "source": []
  },
  {
   "cell_type": "code",
   "execution_count": null,
   "id": "a83f4796-4c81-4444-bb55-a7fca238b6f6",
   "metadata": {},
   "outputs": [],
   "source": []
  },
  {
   "cell_type": "code",
   "execution_count": null,
   "id": "c06bef11-e655-478b-a008-557ff129d02c",
   "metadata": {},
   "outputs": [],
   "source": []
  },
  {
   "cell_type": "code",
   "execution_count": null,
   "id": "0e836af4-732f-43f3-80e9-23b3c453c323",
   "metadata": {},
   "outputs": [],
   "source": []
  },
  {
   "cell_type": "code",
   "execution_count": null,
   "id": "d85bc9ae-3c1a-4d3e-acfd-9c2c578bceb9",
   "metadata": {},
   "outputs": [],
   "source": []
  },
  {
   "cell_type": "code",
   "execution_count": null,
   "id": "97997280-9244-434f-94d4-83ecb7580c89",
   "metadata": {},
   "outputs": [],
   "source": []
  },
  {
   "cell_type": "code",
   "execution_count": null,
   "id": "857ee675-80b1-444a-92cf-f8c4afabd926",
   "metadata": {},
   "outputs": [],
   "source": []
  },
  {
   "cell_type": "code",
   "execution_count": null,
   "id": "164ddd60-b8be-40d8-8e61-0ba53a1e6f1f",
   "metadata": {},
   "outputs": [],
   "source": []
  },
  {
   "cell_type": "code",
   "execution_count": null,
   "id": "88109586-f41c-47d7-8e2f-21a2dc90b4e0",
   "metadata": {},
   "outputs": [],
   "source": []
  },
  {
   "cell_type": "code",
   "execution_count": null,
   "id": "ca07d84d-4c33-4dc4-83f4-0b22a734dd62",
   "metadata": {},
   "outputs": [],
   "source": []
  },
  {
   "cell_type": "code",
   "execution_count": null,
   "id": "db19b71a-27d8-4a33-b9fb-a9580e6ad98e",
   "metadata": {},
   "outputs": [],
   "source": []
  },
  {
   "cell_type": "code",
   "execution_count": null,
   "id": "e6b36f85-e8d6-4c6a-ba10-41fc4990f3e7",
   "metadata": {},
   "outputs": [],
   "source": []
  },
  {
   "cell_type": "code",
   "execution_count": null,
   "id": "5efe3695-2e7c-477c-beee-70ab4cbe99c1",
   "metadata": {},
   "outputs": [],
   "source": []
  },
  {
   "cell_type": "code",
   "execution_count": null,
   "id": "76486e90-e3ed-44b3-bb93-0f481a228487",
   "metadata": {},
   "outputs": [],
   "source": []
  },
  {
   "cell_type": "code",
   "execution_count": null,
   "id": "af4d04ba-5351-43c0-8165-a0ed797daf2d",
   "metadata": {},
   "outputs": [],
   "source": []
  },
  {
   "cell_type": "code",
   "execution_count": null,
   "id": "ea00dc2f-7de3-4fe2-9f8a-9a822c1a8925",
   "metadata": {},
   "outputs": [],
   "source": []
  },
  {
   "cell_type": "code",
   "execution_count": null,
   "id": "ba2a9847-4793-4420-863b-1675f7292e47",
   "metadata": {},
   "outputs": [],
   "source": []
  },
  {
   "cell_type": "code",
   "execution_count": null,
   "id": "7f437e53-1266-420c-99fb-78f1c9cd3d01",
   "metadata": {},
   "outputs": [],
   "source": []
  },
  {
   "cell_type": "code",
   "execution_count": null,
   "id": "1371ff15-22ad-4554-93d3-5ffb77735f35",
   "metadata": {},
   "outputs": [],
   "source": []
  },
  {
   "cell_type": "code",
   "execution_count": null,
   "id": "fe90568c-ebf2-4651-a89e-682ac1d930d7",
   "metadata": {},
   "outputs": [],
   "source": []
  },
  {
   "cell_type": "code",
   "execution_count": null,
   "id": "8b06579e-5e15-4ea8-ba42-1537c53a455d",
   "metadata": {},
   "outputs": [],
   "source": []
  },
  {
   "cell_type": "code",
   "execution_count": null,
   "id": "22ab0661-a79c-4182-9d4c-926f334f6711",
   "metadata": {},
   "outputs": [],
   "source": []
  },
  {
   "cell_type": "code",
   "execution_count": null,
   "id": "68d8ec66-6d27-4631-a959-1938007dc98a",
   "metadata": {},
   "outputs": [],
   "source": []
  },
  {
   "cell_type": "code",
   "execution_count": null,
   "id": "c7c0dfa8-dbe5-4f6a-ad51-fe655395e161",
   "metadata": {},
   "outputs": [],
   "source": []
  },
  {
   "cell_type": "code",
   "execution_count": null,
   "id": "61504349-69f9-4081-89b3-d24c296db6b9",
   "metadata": {},
   "outputs": [],
   "source": []
  },
  {
   "cell_type": "code",
   "execution_count": null,
   "id": "04a4029b-21c9-4eea-89d2-794ef589ccd4",
   "metadata": {},
   "outputs": [],
   "source": []
  },
  {
   "cell_type": "code",
   "execution_count": null,
   "id": "9df601c6-acda-4530-8679-fff40d8ddee5",
   "metadata": {},
   "outputs": [],
   "source": []
  },
  {
   "cell_type": "code",
   "execution_count": null,
   "id": "ebdef581-9bc9-449f-9298-4952618b3499",
   "metadata": {},
   "outputs": [],
   "source": []
  },
  {
   "cell_type": "code",
   "execution_count": null,
   "id": "a00e5cad-fdbb-463c-865a-825395bdc1e2",
   "metadata": {},
   "outputs": [],
   "source": []
  },
  {
   "cell_type": "code",
   "execution_count": null,
   "id": "1d8b7e36-fac3-4bd6-b549-55909a520399",
   "metadata": {},
   "outputs": [],
   "source": []
  },
  {
   "cell_type": "code",
   "execution_count": null,
   "id": "11a44462-86a9-49d6-8b59-7fe2fdc2566a",
   "metadata": {},
   "outputs": [],
   "source": []
  },
  {
   "cell_type": "code",
   "execution_count": null,
   "id": "2bc0c3fd-f616-4037-9886-b9f4e868268d",
   "metadata": {},
   "outputs": [],
   "source": []
  },
  {
   "cell_type": "code",
   "execution_count": null,
   "id": "c2557e30-5cc2-4927-9419-a3d464f2b631",
   "metadata": {},
   "outputs": [],
   "source": []
  },
  {
   "cell_type": "code",
   "execution_count": null,
   "id": "72fae55a-272f-408e-a87d-df701b785683",
   "metadata": {},
   "outputs": [],
   "source": []
  },
  {
   "cell_type": "code",
   "execution_count": null,
   "id": "24becee8-715b-4e4a-a1fe-0dc86c62b6e5",
   "metadata": {},
   "outputs": [],
   "source": []
  },
  {
   "cell_type": "code",
   "execution_count": null,
   "id": "d6e60533-9805-4017-a614-6bb9cc22f679",
   "metadata": {},
   "outputs": [],
   "source": []
  },
  {
   "cell_type": "code",
   "execution_count": null,
   "id": "7ea3d48f-1415-4803-828e-a22a94a3315c",
   "metadata": {},
   "outputs": [],
   "source": []
  },
  {
   "cell_type": "code",
   "execution_count": null,
   "id": "7b147f7c-4707-453f-8d44-8318d4626f44",
   "metadata": {},
   "outputs": [],
   "source": []
  },
  {
   "cell_type": "code",
   "execution_count": null,
   "id": "0efb9347-c92f-447b-955d-38c2f3803c24",
   "metadata": {},
   "outputs": [],
   "source": []
  },
  {
   "cell_type": "code",
   "execution_count": null,
   "id": "12ebed9e-b88e-4720-aa76-a3d87eafa9b8",
   "metadata": {},
   "outputs": [],
   "source": []
  },
  {
   "cell_type": "code",
   "execution_count": null,
   "id": "768a5944-bcbb-4141-9b8b-3bc8fee9a4e9",
   "metadata": {},
   "outputs": [],
   "source": []
  },
  {
   "cell_type": "code",
   "execution_count": null,
   "id": "066cf663-2a92-446b-b10b-f3ce84568355",
   "metadata": {},
   "outputs": [],
   "source": []
  },
  {
   "cell_type": "code",
   "execution_count": null,
   "id": "0a59f4f9-de36-4a73-b4a3-7afe674665bc",
   "metadata": {},
   "outputs": [],
   "source": []
  },
  {
   "cell_type": "code",
   "execution_count": null,
   "id": "dc39d069-b094-433e-bffe-acd30e956e51",
   "metadata": {},
   "outputs": [],
   "source": []
  },
  {
   "cell_type": "code",
   "execution_count": null,
   "id": "c0249825-6efb-4367-b0dd-cc7922fb7242",
   "metadata": {},
   "outputs": [],
   "source": []
  },
  {
   "cell_type": "code",
   "execution_count": null,
   "id": "d2304999-3fd4-4a7b-8d5a-0774b3f6e186",
   "metadata": {},
   "outputs": [],
   "source": []
  },
  {
   "cell_type": "code",
   "execution_count": null,
   "id": "fcb1fbd5-25c6-4111-b1a6-5e8816a92499",
   "metadata": {},
   "outputs": [],
   "source": []
  },
  {
   "cell_type": "code",
   "execution_count": null,
   "id": "e9c5eeaa-027d-43f9-a102-f15d8d17c1c5",
   "metadata": {},
   "outputs": [],
   "source": []
  },
  {
   "cell_type": "code",
   "execution_count": null,
   "id": "0325ddfc-9ac4-468d-8b90-c70b9270e89d",
   "metadata": {},
   "outputs": [],
   "source": []
  },
  {
   "cell_type": "code",
   "execution_count": null,
   "id": "147b3e54-aa04-4434-9b5c-768a5d24a9ee",
   "metadata": {},
   "outputs": [],
   "source": []
  },
  {
   "cell_type": "code",
   "execution_count": null,
   "id": "6a1dd613-a4ca-4197-b844-370375b09ece",
   "metadata": {},
   "outputs": [],
   "source": []
  },
  {
   "cell_type": "code",
   "execution_count": null,
   "id": "f360b05d-3f4a-446b-a25f-a9ef122e55a1",
   "metadata": {},
   "outputs": [],
   "source": []
  }
 ],
 "metadata": {
  "kernelspec": {
   "display_name": "Python 3 (ipykernel)",
   "language": "python",
   "name": "python3"
  },
  "language_info": {
   "codemirror_mode": {
    "name": "ipython",
    "version": 3
   },
   "file_extension": ".py",
   "mimetype": "text/x-python",
   "name": "python",
   "nbconvert_exporter": "python",
   "pygments_lexer": "ipython3",
   "version": "3.10.8"
  }
 },
 "nbformat": 4,
 "nbformat_minor": 5
}
